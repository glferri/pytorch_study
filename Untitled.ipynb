{
 "cells": [
  {
   "cell_type": "markdown",
   "id": "1eeb53e3-6e62-4d19-a263-1379d3d180c6",
   "metadata": {},
   "source": [
    "we added 2 conv layers 5x5 padding 2\n",
    "\n",
    "The spatial dimension of the output feature map is calculated by\n",
    "$$\n",
    "o = \\left\\lfloor\\frac{n + 2p -m}{s}\\right\\rfloor +1\n",
    "$$\n",
    "---\n",
    "\n"
   ]
  }
 ],
 "metadata": {
  "kernelspec": {
   "display_name": "pytorch",
   "language": "python",
   "name": "pytorch"
  },
  "language_info": {
   "codemirror_mode": {
    "name": "ipython",
    "version": 3
   },
   "file_extension": ".py",
   "mimetype": "text/x-python",
   "name": "python",
   "nbconvert_exporter": "python",
   "pygments_lexer": "ipython3",
   "version": "3.11.3"
  }
 },
 "nbformat": 4,
 "nbformat_minor": 5
}
