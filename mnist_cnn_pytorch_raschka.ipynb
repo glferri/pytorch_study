{
 "cells": [
  {
   "cell_type": "markdown",
   "metadata": {
    "id": "pCYS3C0epeia"
   },
   "source": [
    "Load MNIST Data from TorchVision\n",
    "\n",
    "*TODO: make this part torch independent*"
   ]
  },
  {
   "cell_type": "code",
   "execution_count": 1,
   "metadata": {
    "colab": {
     "base_uri": "https://localhost:8080/"
    },
    "executionInfo": {
     "elapsed": 5509,
     "status": "ok",
     "timestamp": 1687696684414,
     "user": {
      "displayName": "Gianluca Ferri",
      "userId": "04299550453904532187"
     },
     "user_tz": -120
    },
    "id": "eCooRjeNomKt",
    "outputId": "e4465b0e-8a67-49c9-c269-738f9ba60bae"
   },
   "outputs": [],
   "source": [
    "import torch\n",
    "import torch.nn as nn\n",
    "import torchvision\n",
    "from torchvision import transforms\n",
    "\n",
    "image_path = './'\n",
    "transform = transforms.Compose([\n",
    "    transforms.ToTensor()\n",
    "])\n",
    "\n",
    "mnist_dataset = torchvision.datasets.MNIST(\n",
    "    root=image_path, train=True, transform = transform, download=True\n",
    ")\n",
    "\n",
    "from torch.utils.data import Subset\n",
    "mnist_valid_dataset = Subset(mnist_dataset,\n",
    "                             torch.arange(10000))\n",
    "mnist_train_dataset = Subset (mnist_dataset,\n",
    "                              torch.arange(\n",
    "                                  10000, len (mnist_dataset)\n",
    "                                  ))\n",
    "mnist_test_dataset = torchvision.datasets.MNIST(root=image_path, train = False,\n",
    "                                                transform=transform, download = False\n",
    "                                                )\n"
   ]
  },
  {
   "cell_type": "markdown",
   "metadata": {
    "id": "X6upiaNFrUFL"
   },
   "source": [
    "construct the data loader with batches of 64 images"
   ]
  },
  {
   "cell_type": "code",
   "execution_count": 2,
   "metadata": {
    "executionInfo": {
     "elapsed": 17,
     "status": "ok",
     "timestamp": 1687696684415,
     "user": {
      "displayName": "Gianluca Ferri",
      "userId": "04299550453904532187"
     },
     "user_tz": -120
    },
    "id": "4kZ6L49msVcR"
   },
   "outputs": [],
   "source": [
    "from torch.utils.data import DataLoader\n",
    "batch_size = 64\n",
    "torch.manual_seed(1)\n",
    "train_dl = DataLoader(mnist_train_dataset,\n",
    "                      batch_size,\n",
    "                      shuffle=True)\n",
    "valid_dl = DataLoader(mnist_valid_dataset,\n",
    "                      batch_size,\n",
    "                      shuffle=False)\n"
   ]
  },
  {
   "cell_type": "markdown",
   "metadata": {
    "id": "L2sfRxpJs99B"
   },
   "source": [
    "construct the model (1st part)\n"
   ]
  },
  {
   "cell_type": "code",
   "execution_count": 3,
   "metadata": {
    "colab": {
     "base_uri": "https://localhost:8080/"
    },
    "executionInfo": {
     "elapsed": 16,
     "status": "ok",
     "timestamp": 1687696684417,
     "user": {
      "displayName": "Gianluca Ferri",
      "userId": "04299550453904532187"
     },
     "user_tz": -120
    },
    "id": "8Gm_J5Ne8VoU",
    "outputId": "cb8dd493-b40e-488f-a84e-aec60ec1f94c"
   },
   "outputs": [
    {
     "name": "stdout",
     "output_type": "stream",
     "text": [
      "1\n",
      "NVIDIA GeForce GTX 1060 6GB\n"
     ]
    }
   ],
   "source": [
    "print(torch.cuda.device_count())\n",
    "print(torch.cuda.get_device_name(0))\n",
    "device = 'cuda' if torch.cuda.is_available() else 'cpu'\n"
   ]
  },
  {
   "cell_type": "code",
   "execution_count": 4,
   "metadata": {
    "executionInfo": {
     "elapsed": 18,
     "status": "ok",
     "timestamp": 1687696684768,
     "user": {
      "displayName": "Gianluca Ferri",
      "userId": "04299550453904532187"
     },
     "user_tz": -120
    },
    "id": "dDlhZVjktBQA"
   },
   "outputs": [],
   "source": [
    "model = nn.Sequential()\n",
    "model.add_module(\n",
    "    'conv1',\n",
    "    nn.Conv2d(\n",
    "        in_channels=1, out_channels=32,\n",
    "        kernel_size=5, padding=2\n",
    "    )\n",
    ")\n",
    "model.add_module('relu1', nn.ReLU())\n",
    "model.add_module('pool1', nn.MaxPool2d(kernel_size=2))\n",
    "model.add_module(\n",
    "    'conv2',\n",
    "    nn.Conv2d(\n",
    "        in_channels=32, out_channels=64,\n",
    "        kernel_size=5, padding=2\n",
    "    )\n",
    ")\n",
    "model.add_module('relu2', nn.ReLU())\n",
    "model.add_module('pool2', nn.MaxPool2d(kernel_size=2))\n"
   ]
  },
  {
   "cell_type": "markdown",
   "metadata": {
    "id": "lOwLHwdWuQWj"
   },
   "source": [
    "we added 2 conv layers 5x5 padding 2\n",
    "\n",
    "The spatial dimension of the output feature map is calculated by\n",
    "$$\n",
    "o = \\left\\lfloor\\frac{n + 2p -m}{s}\\right\\rfloor +1\n",
    "$$\n",
    "---\n",
    "\n",
    "use torch to calculate the size of the feature maps\n",
    "\n",
    "\n"
   ]
  },
  {
   "cell_type": "code",
   "execution_count": 5,
   "metadata": {
    "colab": {
     "base_uri": "https://localhost:8080/"
    },
    "executionInfo": {
     "elapsed": 16,
     "status": "ok",
     "timestamp": 1687696684768,
     "user": {
      "displayName": "Gianluca Ferri",
      "userId": "04299550453904532187"
     },
     "user_tz": -120
    },
    "id": "6o5d_1bLzjAI",
    "outputId": "a88c7063-ece0-4350-80df-3078fceef17d"
   },
   "outputs": [
    {
     "data": {
      "text/plain": [
       "torch.Size([4, 64, 7, 7])"
      ]
     },
     "execution_count": 5,
     "metadata": {},
     "output_type": "execute_result"
    }
   ],
   "source": [
    "x = torch.ones((4,1,28,28))\n",
    "model(x).shape"
   ]
  },
  {
   "cell_type": "markdown",
   "metadata": {
    "id": "GxHf6Hhn0Isx"
   },
   "source": [
    "Add the fully connected layer (torch Linear), but first first flatten the features\n"
   ]
  },
  {
   "cell_type": "code",
   "execution_count": 6,
   "metadata": {
    "colab": {
     "base_uri": "https://localhost:8080/"
    },
    "executionInfo": {
     "elapsed": 15,
     "status": "ok",
     "timestamp": 1687696684769,
     "user": {
      "displayName": "Gianluca Ferri",
      "userId": "04299550453904532187"
     },
     "user_tz": -120
    },
    "id": "nfbE9Ixt0OJZ",
    "outputId": "c9f4ff5b-e67d-4b6f-96d3-f88cc6f9b3e5"
   },
   "outputs": [
    {
     "data": {
      "text/plain": [
       "torch.Size([4, 3136])"
      ]
     },
     "execution_count": 6,
     "metadata": {},
     "output_type": "execute_result"
    }
   ],
   "source": [
    "model.add_module('flatten', nn.Flatten())\n",
    "x = torch.ones((4,1,28,28))\n",
    "model(x).shape"
   ]
  },
  {
   "cell_type": "code",
   "execution_count": 7,
   "metadata": {
    "executionInfo": {
     "elapsed": 12,
     "status": "ok",
     "timestamp": 1687696684770,
     "user": {
      "displayName": "Gianluca Ferri",
      "userId": "04299550453904532187"
     },
     "user_tz": -120
    },
    "id": "hul4R9Ec0iX7"
   },
   "outputs": [],
   "source": [
    "model.add_module('fc1', nn.Linear(3136, 1024))\n",
    "model.add_module('relu3', nn.ReLU())\n",
    "model.add_module('dropout', nn.Dropout(p=0.5))\n",
    "model.add_module('fc2', nn.Linear(1024,10))"
   ]
  },
  {
   "cell_type": "markdown",
   "metadata": {
    "id": "_psA8cp41JkT"
   },
   "source": [
    "No need to add explicitly softmax for the fully connected layer because CrossEntropyLoss uses it internally\n",
    "\n",
    "AAA: loss must be passed to device"
   ]
  },
  {
   "cell_type": "code",
   "execution_count": 8,
   "metadata": {
    "executionInfo": {
     "elapsed": 13,
     "status": "ok",
     "timestamp": 1687696684771,
     "user": {
      "displayName": "Gianluca Ferri",
      "userId": "04299550453904532187"
     },
     "user_tz": -120
    },
    "id": "edSUc6Mt1Uhs"
   },
   "outputs": [],
   "source": [
    "loss_fn = nn.CrossEntropyLoss().to(device)\n",
    "optimizer = torch.optim.Adam(model.parameters(), lr=0.001)\n"
   ]
  },
  {
   "cell_type": "markdown",
   "metadata": {
    "id": "lmN1kMbr1ma3"
   },
   "source": [
    "Adam is robust, gradient-based, suited to nonconvex optimization and machine learning inspired by **RMSProp** and **AdaGrad**.\n",
    "Key advantage: update step size based on running average of gradient moments.\n",
    "Diederik P. Kingma and Jimmy Le Ba - *Adam: A Method for Stochastic Optimization* - 2014 -`https://arxiv/org/abs/1412/6980`\n",
    "\n",
    "\n",
    "\n"
   ]
  },
  {
   "cell_type": "markdown",
   "metadata": {
    "id": "v6Sgn0G32k5y"
   },
   "source": [
    "train code\n",
    "\n",
    "*The item() method extracts the loss’s value as a Python float.*\n"
   ]
  },
  {
   "cell_type": "code",
   "execution_count": 9,
   "metadata": {
    "executionInfo": {
     "elapsed": 13,
     "status": "ok",
     "timestamp": 1687696684772,
     "user": {
      "displayName": "Gianluca Ferri",
      "userId": "04299550453904532187"
     },
     "user_tz": -120
    },
    "id": "zRUip4Do2pNj"
   },
   "outputs": [],
   "source": [
    "def train(model, num_epochs, train_dl, valid_dl):\n",
    "  loss_hist_train = [0] * num_epochs\n",
    "  accuracy_hist_train = [0] * num_epochs\n",
    "  loss_hist_valid = [0] * num_epochs\n",
    "  accuracy_hist_valid = [0] * num_epochs\n",
    "  for epoch in range(num_epochs):\n",
    "    model.train()\n",
    "    for x_batch, y_batch in train_dl:\n",
    "      #GF_added  (but may be I'm missing something here)\n",
    "      x_batch, y_batch = x_batch.to(device), y_batch.to(device)\n",
    "      pred = model(x_batch)\n",
    "      loss = loss_fn(pred, y_batch)\n",
    "      loss.backward()\n",
    "      optimizer.step()\n",
    "      optimizer.zero_grad()\n",
    "      loss_hist_train[epoch] += loss.item()*y_batch.size(0)\n",
    "      is_correct = (\n",
    "          torch.argmax(pred, dim=1) == y_batch\n",
    "      ).float()\n",
    "      accuracy_hist_train[epoch] += is_correct.sum()\n",
    "    loss_hist_train[epoch] /= len(train_dl.dataset)\n",
    "    accuracy_hist_train[epoch] /= len(train_dl.dataset)\n",
    "\n",
    "    model.eval()\n",
    "\n",
    "    with torch.no_grad():\n",
    "      for x_batch, y_batch in valid_dl:\n",
    "        #GF_added (but may be I'm missing something here)\n",
    "        x_batch, y_batch = x_batch.to(device), y_batch.to(device)\n",
    "        pred = model(x_batch)\n",
    "        loss = loss_fn(pred, y_batch)\n",
    "        loss_hist_valid[epoch] += \\\n",
    "          loss.item()*y_batch.size(0)\n",
    "        is_correct = (\n",
    "            torch.argmax(pred, dim=1) == y_batch\n",
    "        ).float()\n",
    "        accuracy_hist_valid[epoch] += is_correct.sum()\n",
    "    loss_hist_valid[epoch] /= len(valid_dl.dataset)\n",
    "    accuracy_hist_valid[epoch] /= len(valid_dl.dataset)\n",
    "\n",
    "    print(f'Epoch {epoch+1} accuracy: '\n",
    "          f'{accuracy_hist_train[epoch]:.4f} val_accuracy '\n",
    "          f'{accuracy_hist_valid[epoch]:.4f}')\n",
    "  return loss_hist_train, loss_hist_valid, \\\n",
    "          accuracy_hist_train, accuracy_hist_valid\n",
    "\n"
   ]
  },
  {
   "cell_type": "markdown",
   "metadata": {
    "id": "QIuo_7iaG514"
   },
   "source": [
    "train the model\n"
   ]
  },
  {
   "cell_type": "markdown",
   "metadata": {
    "id": "7JhHs4WaINJ7"
   },
   "source": [
    "select device"
   ]
  },
  {
   "cell_type": "code",
   "execution_count": 10,
   "metadata": {
    "colab": {
     "base_uri": "https://localhost:8080/"
    },
    "executionInfo": {
     "elapsed": 279,
     "status": "ok",
     "timestamp": 1687696685039,
     "user": {
      "displayName": "Gianluca Ferri",
      "userId": "04299550453904532187"
     },
     "user_tz": -120
    },
    "id": "brwgAEl6IW95",
    "outputId": "95e7c535-2a0f-4916-9323-53009deae01e"
   },
   "outputs": [
    {
     "data": {
      "text/plain": [
       "Sequential(\n",
       "  (conv1): Conv2d(1, 32, kernel_size=(5, 5), stride=(1, 1), padding=(2, 2))\n",
       "  (relu1): ReLU()\n",
       "  (pool1): MaxPool2d(kernel_size=2, stride=2, padding=0, dilation=1, ceil_mode=False)\n",
       "  (conv2): Conv2d(32, 64, kernel_size=(5, 5), stride=(1, 1), padding=(2, 2))\n",
       "  (relu2): ReLU()\n",
       "  (pool2): MaxPool2d(kernel_size=2, stride=2, padding=0, dilation=1, ceil_mode=False)\n",
       "  (flatten): Flatten(start_dim=1, end_dim=-1)\n",
       "  (fc1): Linear(in_features=3136, out_features=1024, bias=True)\n",
       "  (relu3): ReLU()\n",
       "  (dropout): Dropout(p=0.5, inplace=False)\n",
       "  (fc2): Linear(in_features=1024, out_features=10, bias=True)\n",
       ")"
      ]
     },
     "execution_count": 10,
     "metadata": {},
     "output_type": "execute_result"
    }
   ],
   "source": [
    "model.to(device)"
   ]
  },
  {
   "cell_type": "code",
   "execution_count": 11,
   "metadata": {
    "colab": {
     "base_uri": "https://localhost:8080/"
    },
    "executionInfo": {
     "elapsed": 251303,
     "status": "ok",
     "timestamp": 1687696936338,
     "user": {
      "displayName": "Gianluca Ferri",
      "userId": "04299550453904532187"
     },
     "user_tz": -120
    },
    "id": "2_iSrSDGG_1p",
    "outputId": "a762a7d6-4e83-4ce3-e10e-dd3e2f8973b2"
   },
   "outputs": [
    {
     "name": "stdout",
     "output_type": "stream",
     "text": [
      "Epoch 1 accuracy: 0.9503 val_accuracy 0.9813\n",
      "Epoch 2 accuracy: 0.9838 val_accuracy 0.9880\n",
      "Epoch 3 accuracy: 0.9898 val_accuracy 0.9845\n",
      "Epoch 4 accuracy: 0.9919 val_accuracy 0.9908\n",
      "Epoch 5 accuracy: 0.9929 val_accuracy 0.9897\n",
      "Epoch 6 accuracy: 0.9953 val_accuracy 0.9901\n",
      "Epoch 7 accuracy: 0.9954 val_accuracy 0.9912\n",
      "Epoch 8 accuracy: 0.9956 val_accuracy 0.9884\n",
      "Epoch 9 accuracy: 0.9953 val_accuracy 0.9885\n",
      "Epoch 10 accuracy: 0.9971 val_accuracy 0.9907\n",
      "Epoch 11 accuracy: 0.9971 val_accuracy 0.9904\n",
      "Epoch 12 accuracy: 0.9975 val_accuracy 0.9896\n",
      "Epoch 13 accuracy: 0.9972 val_accuracy 0.9908\n",
      "Epoch 14 accuracy: 0.9975 val_accuracy 0.9911\n",
      "Epoch 15 accuracy: 0.9974 val_accuracy 0.9915\n",
      "Epoch 16 accuracy: 0.9985 val_accuracy 0.9915\n",
      "Epoch 17 accuracy: 0.9981 val_accuracy 0.9891\n",
      "Epoch 18 accuracy: 0.9973 val_accuracy 0.9904\n",
      "Epoch 19 accuracy: 0.9985 val_accuracy 0.9910\n",
      "Epoch 20 accuracy: 0.9985 val_accuracy 0.9900\n"
     ]
    }
   ],
   "source": [
    "torch.manual_seed(1)\n",
    "num_epochs = 20\n",
    "hist = train(model, num_epochs, train_dl, valid_dl)"
   ]
  },
  {
   "cell_type": "markdown",
   "metadata": {
    "id": "wyi_4yIeOQOa"
   },
   "source": [
    "Evaluation"
   ]
  },
  {
   "cell_type": "code",
   "execution_count": 12,
   "metadata": {
    "colab": {
     "base_uri": "https://localhost:8080/",
     "height": 394
    },
    "executionInfo": {
     "elapsed": 560,
     "status": "ok",
     "timestamp": 1687696936860,
     "user": {
      "displayName": "Gianluca Ferri",
      "userId": "04299550453904532187"
     },
     "user_tz": -120
    },
    "id": "Rh9iq7rdOSBi",
    "outputId": "4d971158-cf21-4556-eb3e-6e881f92c254"
   },
   "outputs": [
    {
     "data": {
      "image/png": "[encoded data removed]",
      "text/plain": [
       "<Figure size 1200x400 with 2 Axes>"
      ]
     },
     "metadata": {},
     "output_type": "display_data"
    }
   ],
   "source": [
    "import numpy as np\n",
    "import matplotlib.pyplot as plt\n",
    "x_arr = np.arange(len(hist[0]))+1\n",
    "fig = plt.figure(figsize=(12, 4))\n",
    "ax = fig.add_subplot(1, 2, 1)\n",
    "ax.plot(x_arr, hist[0], '-o', label='Train loss')\n",
    "ax.plot(x_arr, hist[1], '--<', label='Validation loss')\n",
    "ax.legend(fontsize=15)\n",
    "ax = fig.add_subplot(1, 2, 2)\n",
    "ax.plot(x_arr, [x.cpu() for x in hist[2]], '-o', label='Train acc.')\n",
    "ax.plot(x_arr, [x.cpu() for x in hist[3]], '--<', label='Validation acc.')\n",
    "ax.legend(fontsize=15)\n",
    "ax.set_xlabel('Epoch', size=15)\n",
    "ax.set_ylabel('Accuracy', size=15)\n",
    "plt.show()\n"
   ]
  },
  {
   "cell_type": "markdown",
   "metadata": {
    "id": "Xy55VPEgQ2-K"
   },
   "source": [
    "Evaluate on test dataset"
   ]
  },
  {
   "cell_type": "code",
   "execution_count": 13,
   "metadata": {
    "colab": {
     "base_uri": "https://localhost:8080/"
    },
    "executionInfo": {
     "elapsed": 231,
     "status": "ok",
     "timestamp": 1687697983332,
     "user": {
      "displayName": "Gianluca Ferri",
      "userId": "04299550453904532187"
     },
     "user_tz": -120
    },
    "id": "QT17TFjejBiS",
    "outputId": "d703b8c0-be37-441a-9d0e-682c07082b59"
   },
   "outputs": [
    {
     "name": "stdout",
     "output_type": "stream",
     "text": [
      "torch.Size([10000, 28, 28])\n",
      "Test accuracy: 0.9906\n",
      "--- %s seconds --- 0.5665\n"
     ]
    }
   ],
   "source": [
    "import time\n",
    "start_time = time.time()\n",
    "test_device = 'cuda'\n",
    "model.to(test_device)\n",
    "print(mnist_test_dataset.data.size())\n",
    "pred = model(mnist_test_dataset.data.unsqueeze(1).to(test_device) / 255.)\n",
    "is_correct = (\n",
    "    torch.argmax(pred, dim=1) == mnist_test_dataset.targets.to(test_device)\n",
    ").float()\n",
    "print(f'Test accuracy: {is_correct.mean():.4f}')\n",
    "cuda_time = time.time() - start_time\n",
    "print(f'--- %s seconds --- {cuda_time:.4f}')\n",
    "\n"
   ]
  },
  {
   "cell_type": "code",
   "execution_count": 14,
   "metadata": {
    "colab": {
     "base_uri": "https://localhost:8080/"
    },
    "executionInfo": {
     "elapsed": 7845,
     "status": "ok",
     "timestamp": 1687698161870,
     "user": {
      "displayName": "Gianluca Ferri",
      "userId": "04299550453904532187"
     },
     "user_tz": -120
    },
    "id": "HSsF9QCflxUn",
    "outputId": "8010363c-f5ae-4889-c58b-49213d3d1464"
   },
   "outputs": [
    {
     "name": "stdout",
     "output_type": "stream",
     "text": [
      "torch.Size([10000, 28, 28])\n",
      "Test accuracy: 0.9906\n",
      "--- %s seconds --- 3.4530\n",
      "cuda is 6.0951 faster\n"
     ]
    }
   ],
   "source": [
    "import time\n",
    "start_time = time.time()\n",
    "test_device = 'cpu'\n",
    "model.to(test_device)\n",
    "print(mnist_test_dataset.data.size())\n",
    "pred = model(mnist_test_dataset.data.unsqueeze(1).to(test_device) / 255.)\n",
    "is_correct = (\n",
    "    torch.argmax(pred, dim=1) == mnist_test_dataset.targets.to(test_device)\n",
    ").float()\n",
    "print(f'Test accuracy: {is_correct.mean():.4f}')\n",
    "cpu_time = time.time() - start_time\n",
    "print(f'--- %s seconds --- {cpu_time:.4f}')\n",
    "\n",
    "print(f'cuda is {cpu_time/cuda_time:.4f} faster')"
   ]
  },
  {
   "cell_type": "markdown",
   "metadata": {
    "id": "9wE45sncrmVg"
   },
   "source": [
    "class membership probabilities and convert to predicted labels using argmax\n"
   ]
  },
  {
   "cell_type": "code",
   "execution_count": 15,
   "metadata": {
    "colab": {
     "base_uri": "https://localhost:8080/",
     "height": 754
    },
    "executionInfo": {
     "elapsed": 612,
     "status": "ok",
     "timestamp": 1687699301974,
     "user": {
      "displayName": "Gianluca Ferri",
      "userId": "04299550453904532187"
     },
     "user_tz": -120
    },
    "id": "T3Ww0YXPr5ec",
    "outputId": "2b071960-d9c6-451a-ce1a-766ea5d3fd3f"
   },
   "outputs": [
    {
     "name": "stdout",
     "output_type": "stream",
     "text": [
      "tensor([[-20.5337, -16.3832, -23.0266, -22.3314, -15.9990, -23.7557, -39.9924,\n",
      "          31.6599, -24.6549, -10.4846]], grad_fn=<AddmmBackward0>)\n",
      "tensor([[ -2.0950,  -8.9690,  24.2769, -16.2549,  -9.2118, -26.6687, -12.0636,\n",
      "         -18.7114, -12.9437, -20.2243]], grad_fn=<AddmmBackward0>)\n",
      "tensor([[-25.1136,  31.7909, -26.8321, -27.1514, -13.3905, -14.7026, -16.9655,\n",
      "          -9.4859, -22.8993, -28.6826]], grad_fn=<AddmmBackward0>)\n",
      "tensor([[ 33.1928, -21.1250, -13.7154, -29.8746, -18.1430, -17.9610, -15.9513,\n",
      "         -16.7865, -12.6421, -16.0715]], grad_fn=<AddmmBackward0>)\n",
      "tensor([[-15.7921, -12.6925, -12.5787, -31.4042,  26.1632, -13.0504, -15.9628,\n",
      "         -10.6620, -17.4261, -14.4998]], grad_fn=<AddmmBackward0>)\n",
      "tensor([[-23.2189,  33.7285, -24.9740, -30.1132, -14.8948, -21.3144, -20.4907,\n",
      "          -8.2719, -25.6624, -28.6609]], grad_fn=<AddmmBackward0>)\n",
      "tensor([[-19.2674,  -6.3641, -12.6814, -26.9064,  18.1130, -13.1158, -13.2532,\n",
      "          -5.6761,  -3.2130, -15.5739]], grad_fn=<AddmmBackward0>)\n",
      "tensor([[-19.2566, -19.3657, -17.3967, -10.5236, -14.8744, -15.2993, -26.0665,\n",
      "         -10.2823, -13.4527,  21.9247]], grad_fn=<AddmmBackward0>)\n",
      "tensor([[-10.6874, -15.4444, -18.7823, -16.3422, -10.9329,  13.1203,  -5.7792,\n",
      "         -12.6903,  -2.4215, -14.8286]], grad_fn=<AddmmBackward0>)\n",
      "tensor([[-26.6012, -26.4477, -35.7971, -30.5888,  -2.0615, -22.0359, -36.6320,\n",
      "          -7.7365, -16.6016,  29.9502]], grad_fn=<AddmmBackward0>)\n",
      "tensor([[ 34.0999, -26.0686, -13.1335, -29.4914, -19.6921, -22.5483, -14.7579,\n",
      "         -22.0782, -12.1661, -12.1654]], grad_fn=<AddmmBackward0>)\n",
      "tensor([[  3.1740, -25.2592, -31.5735, -26.5641, -21.9518,  -4.8619,  28.8301,\n",
      "         -37.1710, -10.6624, -36.3495]], grad_fn=<AddmmBackward0>)\n"
     ]
    },
    {
     "data": {
      "image/png": "[encoded data removed]",
      "text/plain": [
       "<Figure size 1200x400 with 12 Axes>"
      ]
     },
     "metadata": {},
     "output_type": "display_data"
    }
   ],
   "source": [
    "test_device = 'cpu'\n",
    "model.to(test_device)\n",
    "fig = plt.figure(figsize=(12,4))\n",
    "for i in range(12):\n",
    "  ax = fig.add_subplot(2,6, i+1)\n",
    "  ax.set_xticks([]); ax.set_yticks([])\n",
    "  img = mnist_test_dataset[i][0][0,:,:]\n",
    "  pred = model(img.unsqueeze(0).unsqueeze(1).to(test_device))\n",
    "  print(pred)\n",
    "  y_pred = torch.argmax(pred)\n",
    "  ax.imshow(img, cmap = 'gray_r')\n",
    "  ax.text(0.9,0.1,y_pred.item(),\n",
    "          size=15, color='blue',\n",
    "          horizontalalignment='center',\n",
    "          verticalalignment='center',\n",
    "          transform=ax.transAxes)\n",
    "\n",
    "plt.show()\n"
   ]
  },
  {
   "cell_type": "markdown",
   "metadata": {
    "id": "pU4yoE0tuR7J"
   },
   "source": [
    "TODO: find misclassified digits and print them out"
   ]
  }
 ],
 "metadata": {
  "accelerator": "GPU",
  "colab": {
   "authorship_tag": "ABX9TyN6Odf3Y7GRu2yJClv6T6xi",
   "gpuType": "T4",
   "provenance": []
  },
  "kernelspec": {
   "display_name": "pytorch",
   "language": "python",
   "name": "pytorch"
  },
  "language_info": {
   "codemirror_mode": {
    "name": "ipython",
    "version": 3
   },
   "file_extension": ".py",
   "mimetype": "text/x-python",
   "name": "python",
   "nbconvert_exporter": "python",
   "pygments_lexer": "ipython3",
   "version": "3.11.3"
  }
 },
 "nbformat": 4,
 "nbformat_minor": 4
}
